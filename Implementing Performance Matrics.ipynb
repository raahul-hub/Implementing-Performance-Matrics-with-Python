{
 "cells": [
  {
   "cell_type": "markdown",
   "metadata": {
    "colab_type": "text",
    "id": "s0Ej_bXyQvnV"
   },
   "source": [
    "# Compute performance metrics for the given Y and Y_score without sklearn"
   ]
  },
  {
   "cell_type": "code",
   "execution_count": 1,
   "metadata": {},
   "outputs": [],
   "source": [
    "import numpy as np\n",
    "import pandas as pd\n",
    "from tqdm import tqdm\n",
    "import matplotlib.pyplot as plt\n",
    "# other than these two you should not import any other packages"
   ]
  },
  {
   "cell_type": "markdown",
   "metadata": {
    "colab_type": "text",
    "id": "KbsWXuDaQvnq"
   },
   "source": [
    "<pre>\n",
    "<font color='red'><b>A.</b></font> Compute performance metrics for the given data <strong>5_a.csv</strong>\n",
    "   <b>Note 1:</b> in this data you can see number of positive points >> number of negatives points\n",
    "   <b>Note 2:</b> use pandas or numpy to read the data from <b>5_a.csv</b>\n",
    "   <b>Note 3:</b> you need to derive the class labels from given score</pre> $y^{pred}= \\text{[0 if y_score < 0.5 else 1]}$\n",
    "\n",
    "<pre>\n",
    "<ol>\n",
    "<li> Compute Confusion Matrix </li>\n",
    "<li> Compute F1 Score </li>\n",
    "<li> Compute AUC Score, you need to compute different thresholds and for each threshold compute tpr,fpr and then use               numpy.trapz(tpr_array, fpr_array) <a href='https://stackoverflow.com/q/53603376/4084039'>https://stackoverflow.com/q/53603376/4084039</a>, <a href='https://stackoverflow.com/a/39678975/4084039'>https://stackoverflow.com/a/39678975/4084039</a> Note: it should be numpy.trapz(tpr_array, fpr_array) not numpy.trapz(fpr_array, tpr_array)</li>\n",
    "<li> Compute Accuracy Score </li>\n",
    "</ol>\n",
    "</pre>"
   ]
  },
  {
   "cell_type": "code",
   "execution_count": 2,
   "metadata": {},
   "outputs": [],
   "source": [
    "def performance_measure(data):\n",
    "   \n",
    "    def predict_class(x):\n",
    "        if x >= 0.5:\n",
    "            return 1.0\n",
    "        return 0.0\n",
    "\n",
    "    data = data.rename(columns={\"y\": \"y_true\", \"prob\":\"proba\"})\n",
    "    actualscore = data['proba']\n",
    "    data = data.assign(y_pred = actualscore.map(predict_class))\n",
    "    \n",
    "    N = len(data[data.y_true ==0])\n",
    "    P = len(data[data.y_true ==1])\n",
    "    print(\"Total Actual 0 N =\", N)\n",
    "    print(\"Total Actual 1 P =\", P)\n",
    "    print('-'*50)\n",
    "\n",
    "    predicted_1 = len(data[data.y_pred ==1])\n",
    "    predicted_0 = len(data[data.y_pred ==0])\n",
    "    print(\"Total Predicted Negative Points  =\", predicted_0)\n",
    "    print(\"Total Predicted Positive Points   =\", predicted_1)\n",
    "    print('-'*50)\n",
    "\n",
    "    TP = ((data['y_true']==1.0) & (data['y_pred'] == 1.0)).sum()\n",
    "    TN = ((data['y_true']==0.0) & (data['y_pred'] == 0.0)).sum()\n",
    "    FP = ((data['y_true']==0.0) & (data['y_pred'] == 1.0)).sum()\n",
    "    FN = ((data['y_true']==1.0) & (data['y_pred'] == 0.0)).sum()\n",
    "    \n",
    "    print(\"FP :\", FP)\n",
    "    print(\"TN :\", TN)\n",
    "    print(\"TP :\", TP)\n",
    "    print(\"FN :\", FN)\n",
    "    print('-'*50)\n",
    "\n",
    "    #Computing Confusion Matrics\n",
    "    confusion_matrix = np.array([TN, FN, FP, TP]).reshape(2,2)\n",
    "    print(\"Confusion_Matrix :\",)\n",
    "    print(confusion_matrix)\n",
    "    print('-'*50)\n",
    "    \n",
    "    #Computing Precison and Recall\n",
    "    #To avoid division by zero error\n",
    "    if (TP+FP) == 0:\n",
    "        Pr = (print(\"Precision undefined as TP and FP = 0\"))\n",
    "    else:\n",
    "        Pr = TP/(TP + FP)\n",
    "        print(\"Precision Pr = \", Pr)      \n",
    "    Re = (TP/P)\n",
    "    print(\"Recall Re    = \", Re )\n",
    "\n",
    "    #Computing F1 Score\n",
    "    if TP == 0:\n",
    "        print(\"F1 Score is undefinied\")     \n",
    "    else:\n",
    "        F1_Score = 2 * ((Pr * Re)/(Pr + Re))\n",
    "        print(\"F1 Score is :\", F1_Score)\n",
    "    print('-'*50)\n",
    "    \n",
    "    #Computing TPR, FPR, TNR, FNR\n",
    "    TPR = (TP/P)\n",
    "    FPR = (FP/N)\n",
    "    TNR = (TN/N)\n",
    "    FNR = (FN/P)\n",
    "    print(\"True Positive Rate TPR = \", TPR)\n",
    "    print(\"True Positive Rate FPR = \", FPR)\n",
    "    print(\"True Positive Rate TNR = \", TNR)\n",
    "    print(\"True Positive Rate FNR = \", FNR)\n",
    "    print('-'*50)\n",
    "    \n",
    "    #Accuracy\n",
    "    Accuracy = (TP+TN)/(P+N)\n",
    "    print(\"Accuracy is : \", Accuracy)\n",
    "    \n",
    "    #return confusion_matrix, Pr, Re, F1_Score, TPR, FPR, TNR, FNR"
   ]
  },
  {
   "cell_type": "code",
   "execution_count": 3,
   "metadata": {},
   "outputs": [],
   "source": [
    "def compute_AUC(data):\n",
    "\n",
    "    def predict_class_for_threshold(x):\n",
    "        if x >= t:\n",
    "            return 1.0\n",
    "        return 0.0\n",
    "    \n",
    "    def compute_TPR_FPR(y_true, y_pred):\n",
    "        N = y_true.count(0)\n",
    "        P = y_true.count(1)\n",
    "        predicted_1 = y_pred.count(1)\n",
    "        predicted_0 = y_pred.count(0)\n",
    "        TP = ((data['y_true']==1.0) & (data['y_pred'] == 1.0)).sum()\n",
    "        FP = ((data['y_true']==0.0) & (data['y_pred'] == 1.0)).sum()\n",
    "        TPR = (TP/P)\n",
    "        FPR = (FP/N)\n",
    "        return TPR, FPR\n",
    "    \n",
    "    data = data.rename(columns={\"y\": \"y_true\", \"prob\":\"proba\"})\n",
    "    actualscore = data['proba']\n",
    "    \n",
    "    #Sorting data \n",
    "    data = data.sort_values( by= [\"proba\"], ascending = False)\n",
    "    threshold = list(data.proba.unique())\n",
    "\n",
    "    TPR_list = []\n",
    "    FPR_list = []\n",
    "    \n",
    "    \n",
    "    for t in tqdm(threshold):\n",
    "        y_pred = actualscore.map(predict_class_for_threshold)\n",
    "        data['y_pred'] = y_pred\n",
    "\n",
    "        y_pred =list(data.y_pred)\n",
    "        y_true =list(data.y_true)\n",
    "    \n",
    "        TPR , FPR = compute_TPR_FPR(y_true, y_pred)\n",
    "        TPR_list.append(TPR)\n",
    "        FPR_list.append(FPR)\n",
    "    \n",
    "    AUC = np.trapz(TPR_list, FPR_list)\n",
    "    return AUC, TPR_list, FPR_list\n",
    "\n"
   ]
  },
  {
   "cell_type": "code",
   "execution_count": 4,
   "metadata": {},
   "outputs": [],
   "source": [
    "data = pd.read_csv('5_a.csv')"
   ]
  },
  {
   "cell_type": "code",
   "execution_count": 5,
   "metadata": {},
   "outputs": [
    {
     "name": "stdout",
     "output_type": "stream",
     "text": [
      "Total Actual 0 N = 100\n",
      "Total Actual 1 P = 10000\n",
      "--------------------------------------------------\n",
      "Total Predicted Negative Points  = 0\n",
      "Total Predicted Positive Points   = 10100\n",
      "--------------------------------------------------\n",
      "FP : 100\n",
      "TN : 0\n",
      "TP : 10000\n",
      "FN : 0\n",
      "--------------------------------------------------\n",
      "Confusion_Matrix :\n",
      "[[    0     0]\n",
      " [  100 10000]]\n",
      "--------------------------------------------------\n",
      "Precision Pr =  0.9900990099009901\n",
      "Recall Re    =  1.0\n",
      "F1 Score is : 0.9950248756218906\n",
      "--------------------------------------------------\n",
      "True Positive Rate TPR =  1.0\n",
      "True Positive Rate FPR =  1.0\n",
      "True Positive Rate TNR =  0.0\n",
      "True Positive Rate FNR =  0.0\n",
      "--------------------------------------------------\n",
      "Accuracy is :  0.9900990099009901\n"
     ]
    }
   ],
   "source": [
    "performance_measure(data)"
   ]
  },
  {
   "cell_type": "code",
   "execution_count": 6,
   "metadata": {},
   "outputs": [
    {
     "name": "stderr",
     "output_type": "stream",
     "text": [
      "100%|██████████| 10100/10100 [02:27<00:00, 68.58it/s]\n"
     ]
    },
    {
     "name": "stdout",
     "output_type": "stream",
     "text": [
      "AUC is 0.48829900000000004\n"
     ]
    },
    {
     "data": {
      "image/png": "[encoded data removed]",
      "text/plain": [
       "<Figure size 432x288 with 1 Axes>"
      ]
     },
     "metadata": {
      "needs_background": "light"
     },
     "output_type": "display_data"
    }
   ],
   "source": [
    "AUC, TPR_list, FPR_list = compute_AUC(data)\n",
    "print(\"AUC is\", AUC)\n",
    "plt.plot(FPR_list, TPR_list,)\n",
    "plt.xlabel(\"FPR\")\n",
    "plt.ylabel(\"TPR\")\n",
    "plt.title(\"ROC and AUC\")\n",
    "plt.show()"
   ]
  },
  {
   "cell_type": "markdown",
   "metadata": {},
   "source": [
    "____________"
   ]
  },
  {
   "cell_type": "markdown",
   "metadata": {
    "colab_type": "text",
    "id": "V5KZem1BQvn2"
   },
   "source": [
    "<pre>\n",
    "<font color='red'><b>B.</b></font> Compute performance metrics for the given data <strong>5_b.csv</strong>\n",
    "   <b>Note 1:</b> in this data you can see number of positive points << number of negatives points\n",
    "   <b>Note 2:</b> use pandas or numpy to read the data from <b>5_b.csv</b>\n",
    "   <b>Note 3:</b> you need to derive the class labels from given score</pre> $y^{pred}= \\text{[0 if y_score < 0.5 else 1]}$\n",
    "\n",
    "<pre>\n",
    "<ol>\n",
    "<li> Compute Confusion Matrix </li>\n",
    "<li> Compute F1 Score </li>\n",
    "<li> Compute AUC Score, you need to compute different thresholds and for each threshold compute tpr,fpr and then use               numpy.trapz(tpr_array, fpr_array) <a href='https://stackoverflow.com/q/53603376/4084039'>https://stackoverflow.com/q/53603376/4084039</a>, <a href='https://stackoverflow.com/a/39678975/4084039'>https://stackoverflow.com/a/39678975/4084039</a></li>\n",
    "<li> Compute Accuracy Score </li>\n",
    "</ol>\n",
    "</pre>"
   ]
  },
  {
   "cell_type": "code",
   "execution_count": 7,
   "metadata": {},
   "outputs": [],
   "source": [
    "data = pd.read_csv('5_b.csv')"
   ]
  },
  {
   "cell_type": "code",
   "execution_count": 8,
   "metadata": {},
   "outputs": [
    {
     "name": "stderr",
     "output_type": "stream",
     "text": [
      "  0%|          | 5/10100 [00:00<03:43, 45.17it/s]"
     ]
    },
    {
     "name": "stdout",
     "output_type": "stream",
     "text": [
      "Total Actual 0 N = 10000\n",
      "Total Actual 1 P = 100\n",
      "--------------------------------------------------\n",
      "Total Predicted Negative Points  = 9806\n",
      "Total Predicted Positive Points   = 294\n",
      "--------------------------------------------------\n",
      "FP : 239\n",
      "TN : 9761\n",
      "TP : 55\n",
      "FN : 45\n",
      "--------------------------------------------------\n",
      "Confusion_Matrix :\n",
      "[[9761   45]\n",
      " [ 239   55]]\n",
      "--------------------------------------------------\n",
      "Precision Pr =  0.1870748299319728\n",
      "Recall Re    =  0.55\n",
      "F1 Score is : 0.2791878172588833\n",
      "--------------------------------------------------\n",
      "True Positive Rate TPR =  0.55\n",
      "True Positive Rate FPR =  0.0239\n",
      "True Positive Rate TNR =  0.9761\n",
      "True Positive Rate FNR =  0.45\n",
      "--------------------------------------------------\n",
      "Accuracy is :  0.9718811881188119\n"
     ]
    },
    {
     "name": "stderr",
     "output_type": "stream",
     "text": [
      "100%|██████████| 10100/10100 [03:02<00:00, 55.31it/s]\n"
     ]
    },
    {
     "name": "stdout",
     "output_type": "stream",
     "text": [
      "AUC is 0.9377570000000001\n"
     ]
    },
    {
     "data": {
      "image/png": "[encoded data removed]",
      "text/plain": [
       "<Figure size 432x288 with 1 Axes>"
      ]
     },
     "metadata": {
      "needs_background": "light"
     },
     "output_type": "display_data"
    }
   ],
   "source": [
    "performance_measure(data)\n",
    "AUC, TPR_list, FPR_list = compute_AUC(data)\n",
    "print(\"AUC is\", AUC)\n",
    "plt.plot(FPR_list, TPR_list,)\n",
    "plt.xlabel(\"FPR\")\n",
    "plt.ylabel(\"TPR\")\n",
    "plt.title(\"ROC and AUC\")\n",
    "plt.show()\n"
   ]
  },
  {
   "cell_type": "markdown",
   "metadata": {},
   "source": [
    "**also checking for for 5_C.csv**"
   ]
  },
  {
   "cell_type": "code",
   "execution_count": 9,
   "metadata": {},
   "outputs": [
    {
     "name": "stderr",
     "output_type": "stream",
     "text": [
      "  1%|          | 15/2791 [00:00<00:20, 133.09it/s]"
     ]
    },
    {
     "name": "stdout",
     "output_type": "stream",
     "text": [
      "Total Actual 0 N = 1805\n",
      "Total Actual 1 P = 1047\n",
      "--------------------------------------------------\n",
      "Total Predicted Negative Points  = 2099\n",
      "Total Predicted Positive Points   = 753\n",
      "--------------------------------------------------\n",
      "FP : 168\n",
      "TN : 1637\n",
      "TP : 585\n",
      "FN : 462\n",
      "--------------------------------------------------\n",
      "Confusion_Matrix :\n",
      "[[1637  462]\n",
      " [ 168  585]]\n",
      "--------------------------------------------------\n",
      "Precision Pr =  0.7768924302788844\n",
      "Recall Re    =  0.5587392550143266\n",
      "F1 Score is : 0.65\n",
      "--------------------------------------------------\n",
      "True Positive Rate TPR =  0.5587392550143266\n",
      "True Positive Rate FPR =  0.09307479224376732\n",
      "True Positive Rate TNR =  0.9069252077562326\n",
      "True Positive Rate FNR =  0.44126074498567336\n",
      "--------------------------------------------------\n",
      "Accuracy is :  0.7791023842917251\n"
     ]
    },
    {
     "name": "stderr",
     "output_type": "stream",
     "text": [
      "100%|██████████| 2791/2791 [00:23<00:00, 116.81it/s]\n"
     ]
    },
    {
     "name": "stdout",
     "output_type": "stream",
     "text": [
      "AUC is 0.8288141557331724\n"
     ]
    },
    {
     "data": {
      "image/png": "[encoded data removed]",
      "text/plain": [
       "<Figure size 432x288 with 1 Axes>"
      ]
     },
     "metadata": {
      "needs_background": "light"
     },
     "output_type": "display_data"
    }
   ],
   "source": [
    "data = pd.read_csv('5_c.csv')\n",
    "performance_measure(data)\n",
    "AUC, TPR_list, FPR_list = compute_AUC(data)\n",
    "print(\"AUC is\", AUC)\n",
    "plt.plot(FPR_list, TPR_list,)\n",
    "plt.xlabel(\"FPR\")\n",
    "plt.ylabel(\"TPR\")\n",
    "plt.title(\"ROC and AUC\")\n",
    "plt.show()\n"
   ]
  },
  {
   "cell_type": "markdown",
   "metadata": {},
   "source": [
    "__________"
   ]
  },
  {
   "cell_type": "markdown",
   "metadata": {
    "colab_type": "text",
    "id": "GiPGonTzQvoB"
   },
   "source": [
    "<font color='red'><b>C.</b></font> Compute the best threshold (similarly to ROC curve computation) of probability which gives lowest values of metric <b>A</b> for the given data <strong>5_c.csv</strong>\n",
    "<br>\n",
    "\n",
    "you will be predicting label of a data points like this: $y^{pred}= \\text{[0 if y_score < threshold  else 1]}$\n",
    "\n",
    "$ A = 500 \\times \\text{number of false negative} + 100 \\times \\text{numebr of false positive}$\n",
    "\n",
    "<pre>\n",
    "   <b>Note 1:</b> in this data you can see number of negative points > number of positive points\n",
    "   <b>Note 2:</b> use pandas or numpy to read the data from <b>5_c.csv</b>\n",
    "</pre>"
   ]
  },
  {
   "cell_type": "code",
   "execution_count": 10,
   "metadata": {},
   "outputs": [],
   "source": [
    "def compute_A(data):\n",
    "\n",
    "    def predict_class_for_threshold(x):\n",
    "        if x >= t:\n",
    "            return 1.0\n",
    "        return 0.0\n",
    "    \n",
    "    def compute_TPR_FPR(y_true, y_pred):\n",
    "        N = y_true.count(0)\n",
    "        P = y_true.count(1)\n",
    "        predicted_1 = y_pred.count(1)\n",
    "        predicted_0 = y_pred.count(0)\n",
    "        FP = ((data['y_true']==0.0) & (data['y_pred'] == 1.0)).sum()\n",
    "        FN = ((data['y_true']==1.0) & (data['y_pred'] == 0.0)).sum()\n",
    "        return FN, FP\n",
    "    \n",
    "    data = data.rename(columns={\"y\": \"y_true\", \"prob\":\"proba\"})\n",
    "    actualscore = data['proba']\n",
    "    data = data.sort_values( by= [\"proba\"], ascending = False)\n",
    "    threshold = list(data.proba.unique())\n",
    "\n",
    "    TPR_list = []\n",
    "    FPR_list = []\n",
    "    A_list = []\n",
    "    \n",
    "    for t in tqdm(threshold):\n",
    "        y_pred = actualscore.map(predict_class_for_threshold)\n",
    "        data['y_pred'] = y_pred\n",
    "\n",
    "        y_pred =list(data.y_pred)\n",
    "        y_true =list(data.y_true)\n",
    "    \n",
    "        FN, FP = compute_TPR_FPR(y_true, y_pred)\n",
    "        A = 500*FN + 100*FP\n",
    "        A_list.append(A)\n",
    "        \n",
    "    A_dict = dict(zip(A_list, threshold))\n",
    "    best_threshold = A_dict.get(min(A_list))\n",
    "    \n",
    "    return A_dict, best_threshold\n"
   ]
  },
  {
   "cell_type": "code",
   "execution_count": 11,
   "metadata": {},
   "outputs": [
    {
     "name": "stderr",
     "output_type": "stream",
     "text": [
      "100%|██████████| 2791/2791 [00:23<00:00, 116.80it/s]\n"
     ]
    }
   ],
   "source": [
    "data = pd.read_csv('5_c.csv')\n",
    "A_dict, best_threshold = compute_A(data)"
   ]
  },
  {
   "cell_type": "code",
   "execution_count": 12,
   "metadata": {},
   "outputs": [
    {
     "data": {
      "text/plain": [
       "0.2300390278970873"
      ]
     },
     "execution_count": 12,
     "metadata": {},
     "output_type": "execute_result"
    }
   ],
   "source": [
    "best_threshold"
   ]
  },
  {
   "cell_type": "markdown",
   "metadata": {},
   "source": [
    "_______"
   ]
  },
  {
   "cell_type": "markdown",
   "metadata": {
    "colab_type": "text",
    "id": "sD4CcgjXQvoL"
   },
   "source": [
    "<pre>\n",
    "<font color='red'><b>D.</b></font> Compute performance metrics(for regression) for the given data <strong>5_d.csv</strong>\n",
    "    <b>Note 2:</b> use pandas or numpy to read the data from <b>5_d.csv</b>\n",
    "    <b>Note 1:</b> <b>5_d.csv</b> will having two columns Y and predicted_Y both are real valued features\n",
    "<ol>\n",
    "<li> Compute Mean Square Error </li>\n",
    "<li> Compute MAPE: https://www.youtube.com/watch?v=ly6ztgIkUxk</li>\n",
    "<li> Compute R^2 error: https://en.wikipedia.org/wiki/Coefficient_of_determination#Definitions </li>\n",
    "</ol>\n",
    "</pre>"
   ]
  },
  {
   "cell_type": "markdown",
   "metadata": {},
   "source": [
    "____"
   ]
  },
  {
   "cell_type": "code",
   "execution_count": 13,
   "metadata": {},
   "outputs": [],
   "source": [
    "def regression_performance(data):\n",
    "    data = data.rename(columns={\"y\": \"y_true\", \"pred\": \"y_pred\"})\n",
    "    data = data.assign(simple_error = abs(data.y_true - data.y_pred))\n",
    "    data = data.assign(squared_error_on_mean = np.square(data.y_true - (data.y_pred.sum()/len(data.y_pred))))\n",
    "    data = data.assign(squared_error_on_pred = np.square(data.y_true - (data.y_pred)))\n",
    "    \n",
    "    #Computing Mean Square Error\n",
    "    MSE = data.squared_error_on_pred.sum()/len(data)\n",
    "    \n",
    "    #Computing Mean Absolure Percentage Error\n",
    "    #Using Modified formula i.e. sum(abs(errors))/Sum(Y_true)\n",
    "    MAPE = data.simple_error.sum()/data.y_true.sum()\n",
    "    \n",
    "    #Computing Coefficient of Determination R_Square\n",
    "    SS_res = data.squared_error_on_pred.sum()\n",
    "    SS_tot = data.squared_error_on_mean.sum()\n",
    "    R_square =1 - (SS_res/SS_tot)\n",
    "    \n",
    "    return MSE, MAPE, R_square"
   ]
  },
  {
   "cell_type": "code",
   "execution_count": 14,
   "metadata": {},
   "outputs": [
    {
     "name": "stdout",
     "output_type": "stream",
     "text": [
      "MSE :  177.16569974554707\n",
      "MAPE:  0.1291202994009687\n",
      "R_Square :  0.9563583447288622\n"
     ]
    }
   ],
   "source": [
    "data = pd.read_csv('5_d.csv')\n",
    "MSE, MAPE, R_square = regression_performance(data)\n",
    "print(\"MSE : \", MSE)\n",
    "print(\"MAPE: \", MAPE)\n",
    "print(\"R_Square : \", R_square)                   "
   ]
  },
  {
   "cell_type": "markdown",
   "metadata": {},
   "source": [
    "_____"
   ]
  },
  {
   "cell_type": "markdown",
   "metadata": {},
   "source": [
    "_______"
   ]
  }
 ],
 "metadata": {
  "kernelspec": {
   "display_name": "Python 3",
   "language": "python",
   "name": "python3"
  },
  "language_info": {
   "codemirror_mode": {
    "name": "ipython",
    "version": 3
   },
   "file_extension": ".py",
   "mimetype": "text/x-python",
   "name": "python",
   "nbconvert_exporter": "python",
   "pygments_lexer": "ipython3",
   "version": "3.6.5"
  }
 },
 "nbformat": 4,
 "nbformat_minor": 4
}
